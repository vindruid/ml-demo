{
  "nbformat": 4,
  "nbformat_minor": 0,
  "metadata": {
    "colab": {
      "name": "Decision tree and family.ipynb",
      "provenance": [],
      "collapsed_sections": [
        "09q2Unank1nJ",
        "EBM25D1nkx8_",
        "RGMUAO7UkzqF"
      ],
      "authorship_tag": "ABX9TyOL4d+1AbWxVtQSRSPxeMXz",
      "include_colab_link": true
    },
    "kernelspec": {
      "name": "python3",
      "display_name": "Python 3"
    },
    "widgets": {
      "application/vnd.jupyter.widget-state+json": {
        "246686fb57104f02b129a29c04aa0112": {
          "model_module": "@jupyter-widgets/controls",
          "model_name": "VBoxModel",
          "state": {
            "_view_name": "VBoxView",
            "_dom_classes": [
              "widget-interact"
            ],
            "_model_name": "VBoxModel",
            "_view_module": "@jupyter-widgets/controls",
            "_model_module_version": "1.5.0",
            "_view_count": null,
            "_view_module_version": "1.5.0",
            "box_style": "",
            "layout": "IPY_MODEL_e6adf4a5622b4da39adb7fd8407704ad",
            "_model_module": "@jupyter-widgets/controls",
            "children": [
              "IPY_MODEL_de023a56fcd84511bebccab969fe9dde",
              "IPY_MODEL_f7bd58bfadf247728e502de94c8e31c3",
              "IPY_MODEL_5b601b08b0d242fdbd7968b004060fed"
            ]
          }
        },
        "e6adf4a5622b4da39adb7fd8407704ad": {
          "model_module": "@jupyter-widgets/base",
          "model_name": "LayoutModel",
          "state": {
            "_view_name": "LayoutView",
            "grid_template_rows": null,
            "right": null,
            "justify_content": null,
            "_view_module": "@jupyter-widgets/base",
            "overflow": null,
            "_model_module_version": "1.2.0",
            "_view_count": null,
            "flex_flow": null,
            "width": null,
            "min_width": null,
            "border": null,
            "align_items": null,
            "bottom": null,
            "_model_module": "@jupyter-widgets/base",
            "top": null,
            "grid_column": null,
            "overflow_y": null,
            "overflow_x": null,
            "grid_auto_flow": null,
            "grid_area": null,
            "grid_template_columns": null,
            "flex": null,
            "_model_name": "LayoutModel",
            "justify_items": null,
            "grid_row": null,
            "max_height": null,
            "align_content": null,
            "visibility": null,
            "align_self": null,
            "height": null,
            "min_height": null,
            "padding": null,
            "grid_auto_rows": null,
            "grid_gap": null,
            "max_width": null,
            "order": null,
            "_view_module_version": "1.2.0",
            "grid_template_areas": null,
            "object_position": null,
            "object_fit": null,
            "grid_auto_columns": null,
            "margin": null,
            "display": null,
            "left": null
          }
        },
        "de023a56fcd84511bebccab969fe9dde": {
          "model_module": "@jupyter-widgets/controls",
          "model_name": "SelectionSliderModel",
          "state": {
            "_options_labels": [
              "0.1",
              "0.30000000000000004",
              "0.5",
              "0.7",
              "0.9",
              "1.1",
              "1.2999999999999998",
              "1.5",
              "1.65",
              "1.85",
              "2.1",
              "2.3",
              "2.5",
              "2.7",
              "2.9",
              "3.1",
              "3.3",
              "3.5",
              "3.7",
              "3.9",
              "4.2",
              "4.65",
              "5.1",
              "5.65",
              "6.25",
              "6.9",
              "7.699999999999999",
              "8.25",
              "8.65",
              "9.55",
              "10.35"
            ],
            "_view_name": "SelectionSliderView",
            "style": "IPY_MODEL_ad5fdb976cfb40ad99036ec82473c2a7",
            "_dom_classes": [],
            "description": "decision",
            "_model_name": "SelectionSliderModel",
            "orientation": "horizontal",
            "index": 23,
            "_view_module": "@jupyter-widgets/controls",
            "_model_module_version": "1.5.0",
            "_view_count": null,
            "disabled": false,
            "_view_module_version": "1.5.0",
            "continuous_update": true,
            "description_tooltip": null,
            "readout": false,
            "_model_module": "@jupyter-widgets/controls",
            "layout": "IPY_MODEL_ce89ebed045d426da3207d01e6bd71dc"
          }
        },
        "f7bd58bfadf247728e502de94c8e31c3": {
          "model_module": "@jupyter-widgets/controls",
          "model_name": "CheckboxModel",
          "state": {
            "_view_name": "CheckboxView",
            "style": "IPY_MODEL_34cdfb116c13416ab31a0e980e4f38b2",
            "_dom_classes": [],
            "description": "show_error",
            "_model_name": "CheckboxModel",
            "_view_module": "@jupyter-widgets/controls",
            "_model_module_version": "1.5.0",
            "value": false,
            "_view_count": null,
            "disabled": false,
            "_view_module_version": "1.5.0",
            "indent": true,
            "description_tooltip": null,
            "_model_module": "@jupyter-widgets/controls",
            "layout": "IPY_MODEL_6678d225dabc4d64a5e6d92d8485ef0f"
          }
        },
        "5b601b08b0d242fdbd7968b004060fed": {
          "model_module": "@jupyter-widgets/output",
          "model_name": "OutputModel",
          "state": {
            "_view_name": "OutputView",
            "msg_id": "",
            "_dom_classes": [],
            "_model_name": "OutputModel",
            "outputs": [
              {
                "output_type": "display_data",
                "metadata": {
                  "tags": []
                },
                "image/png": "iVBORw0KGgoAAAANSUhEUgAAAawAAAGECAYAAABqNxT3AAAABHNCSVQICAgIfAhkiAAAAAlwSFlz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\n",
                "text/plain": "<Figure size 1080x432 with 1 Axes>"
              }
            ],
            "_view_module": "@jupyter-widgets/output",
            "_model_module_version": "1.0.0",
            "_view_count": null,
            "_view_module_version": "1.0.0",
            "layout": "IPY_MODEL_4708b24a73024843ac1d3562380cd5b1",
            "_model_module": "@jupyter-widgets/output"
          }
        },
        "ad5fdb976cfb40ad99036ec82473c2a7": {
          "model_module": "@jupyter-widgets/controls",
          "model_name": "DescriptionStyleModel",
          "state": {
            "_view_name": "StyleView",
            "_model_name": "DescriptionStyleModel",
            "description_width": "",
            "_view_module": "@jupyter-widgets/base",
            "_model_module_version": "1.5.0",
            "_view_count": null,
            "_view_module_version": "1.2.0",
            "_model_module": "@jupyter-widgets/controls"
          }
        },
        "ce89ebed045d426da3207d01e6bd71dc": {
          "model_module": "@jupyter-widgets/base",
          "model_name": "LayoutModel",
          "state": {
            "_view_name": "LayoutView",
            "grid_template_rows": null,
            "right": null,
            "justify_content": null,
            "_view_module": "@jupyter-widgets/base",
            "overflow": null,
            "_model_module_version": "1.2.0",
            "_view_count": null,
            "flex_flow": null,
            "width": null,
            "min_width": null,
            "border": null,
            "align_items": null,
            "bottom": null,
            "_model_module": "@jupyter-widgets/base",
            "top": null,
            "grid_column": null,
            "overflow_y": null,
            "overflow_x": null,
            "grid_auto_flow": null,
            "grid_area": null,
            "grid_template_columns": null,
            "flex": null,
            "_model_name": "LayoutModel",
            "justify_items": null,
            "grid_row": null,
            "max_height": null,
            "align_content": null,
            "visibility": null,
            "align_self": null,
            "height": null,
            "min_height": null,
            "padding": null,
            "grid_auto_rows": null,
            "grid_gap": null,
            "max_width": null,
            "order": null,
            "_view_module_version": "1.2.0",
            "grid_template_areas": null,
            "object_position": null,
            "object_fit": null,
            "grid_auto_columns": null,
            "margin": null,
            "display": null,
            "left": null
          }
        },
        "34cdfb116c13416ab31a0e980e4f38b2": {
          "model_module": "@jupyter-widgets/controls",
          "model_name": "DescriptionStyleModel",
          "state": {
            "_view_name": "StyleView",
            "_model_name": "DescriptionStyleModel",
            "description_width": "",
            "_view_module": "@jupyter-widgets/base",
            "_model_module_version": "1.5.0",
            "_view_count": null,
            "_view_module_version": "1.2.0",
            "_model_module": "@jupyter-widgets/controls"
          }
        },
        "6678d225dabc4d64a5e6d92d8485ef0f": {
          "model_module": "@jupyter-widgets/base",
          "model_name": "LayoutModel",
          "state": {
            "_view_name": "LayoutView",
            "grid_template_rows": null,
            "right": null,
            "justify_content": null,
            "_view_module": "@jupyter-widgets/base",
            "overflow": null,
            "_model_module_version": "1.2.0",
            "_view_count": null,
            "flex_flow": null,
            "width": null,
            "min_width": null,
            "border": null,
            "align_items": null,
            "bottom": null,
            "_model_module": "@jupyter-widgets/base",
            "top": null,
            "grid_column": null,
            "overflow_y": null,
            "overflow_x": null,
            "grid_auto_flow": null,
            "grid_area": null,
            "grid_template_columns": null,
            "flex": null,
            "_model_name": "LayoutModel",
            "justify_items": null,
            "grid_row": null,
            "max_height": null,
            "align_content": null,
            "visibility": null,
            "align_self": null,
            "height": null,
            "min_height": null,
            "padding": null,
            "grid_auto_rows": null,
            "grid_gap": null,
            "max_width": null,
            "order": null,
            "_view_module_version": "1.2.0",
            "grid_template_areas": null,
            "object_position": null,
            "object_fit": null,
            "grid_auto_columns": null,
            "margin": null,
            "display": null,
            "left": null
          }
        },
        "912eea1ca1994ebba8df6450307fa84c": {
          "model_module": "@jupyter-widgets/controls",
          "model_name": "VBoxModel",
          "state": {
            "_view_name": "VBoxView",
            "_dom_classes": [
              "widget-interact"
            ],
            "_model_name": "VBoxModel",
            "_view_module": "@jupyter-widgets/controls",
            "_model_module_version": "1.5.0",
            "_view_count": null,
            "_view_module_version": "1.5.0",
            "box_style": "",
            "layout": "IPY_MODEL_fb3a9906f7254c7ab1601a2cdf6b7553",
            "_model_module": "@jupyter-widgets/controls",
            "children": [
              "IPY_MODEL_2a72cf6f26d74949bb3a26db04cdb38c",
              "IPY_MODEL_0dc8fe4620c848e1b00db2b5cdb17c97"
            ]
          }
        },
        "fb3a9906f7254c7ab1601a2cdf6b7553": {
          "model_module": "@jupyter-widgets/base",
          "model_name": "LayoutModel",
          "state": {
            "_view_name": "LayoutView",
            "grid_template_rows": null,
            "right": null,
            "justify_content": null,
            "_view_module": "@jupyter-widgets/base",
            "overflow": null,
            "_model_module_version": "1.2.0",
            "_view_count": null,
            "flex_flow": null,
            "width": null,
            "min_width": null,
            "border": null,
            "align_items": null,
            "bottom": null,
            "_model_module": "@jupyter-widgets/base",
            "top": null,
            "grid_column": null,
            "overflow_y": null,
            "overflow_x": null,
            "grid_auto_flow": null,
            "grid_area": null,
            "grid_template_columns": null,
            "flex": null,
            "_model_name": "LayoutModel",
            "justify_items": null,
            "grid_row": null,
            "max_height": null,
            "align_content": null,
            "visibility": null,
            "align_self": null,
            "height": null,
            "min_height": null,
            "padding": null,
            "grid_auto_rows": null,
            "grid_gap": null,
            "max_width": null,
            "order": null,
            "_view_module_version": "1.2.0",
            "grid_template_areas": null,
            "object_position": null,
            "object_fit": null,
            "grid_auto_columns": null,
            "margin": null,
            "display": null,
            "left": null
          }
        },
        "2a72cf6f26d74949bb3a26db04cdb38c": {
          "model_module": "@jupyter-widgets/controls",
          "model_name": "IntSliderModel",
          "state": {
            "_view_name": "IntSliderView",
            "style": "IPY_MODEL_39f8071719294462b924114309f35407",
            "_dom_classes": [],
            "description": "depth",
            "step": 1,
            "_model_name": "IntSliderModel",
            "orientation": "horizontal",
            "max": 7,
            "_view_module": "@jupyter-widgets/controls",
            "_model_module_version": "1.5.0",
            "value": 1,
            "_view_count": null,
            "disabled": false,
            "_view_module_version": "1.5.0",
            "min": 1,
            "continuous_update": true,
            "readout_format": "d",
            "description_tooltip": null,
            "readout": true,
            "_model_module": "@jupyter-widgets/controls",
            "layout": "IPY_MODEL_473a1fc1aa9348f98a62cba5b87e71ea"
          }
        },
        "0dc8fe4620c848e1b00db2b5cdb17c97": {
          "model_module": "@jupyter-widgets/output",
          "model_name": "OutputModel",
          "state": {
            "_view_name": "OutputView",
            "msg_id": "",
            "_dom_classes": [],
            "_model_name": "OutputModel",
            "outputs": [
              {
                "output_type": "display_data",
                "metadata": {
                  "tags": []
                },
                "image/png": "iVBORw0KGgoAAAANSUhEUgAAAX4AAAFzCAYAAAA5RGIiAAAABHNCSVQICAgIfAhkiAAAAAlwSFlz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\nktQwBr8kNYzBL0kN8/8BUNHiaCbrpgUAAAAASUVORK5CYII=\n",
                "text/plain": "<Figure size 432x432 with 1 Axes>"
              }
            ],
            "_view_module": "@jupyter-widgets/output",
            "_model_module_version": "1.0.0",
            "_view_count": null,
            "_view_module_version": "1.0.0",
            "layout": "IPY_MODEL_d416dbce29cb49809e9b98bad5852bee",
            "_model_module": "@jupyter-widgets/output"
          }
        },
        "39f8071719294462b924114309f35407": {
          "model_module": "@jupyter-widgets/controls",
          "model_name": "SliderStyleModel",
          "state": {
            "_view_name": "StyleView",
            "handle_color": null,
            "_model_name": "SliderStyleModel",
            "description_width": "",
            "_view_module": "@jupyter-widgets/base",
            "_model_module_version": "1.5.0",
            "_view_count": null,
            "_view_module_version": "1.2.0",
            "_model_module": "@jupyter-widgets/controls"
          }
        },
        "473a1fc1aa9348f98a62cba5b87e71ea": {
          "model_module": "@jupyter-widgets/base",
          "model_name": "LayoutModel",
          "state": {
            "_view_name": "LayoutView",
            "grid_template_rows": null,
            "right": null,
            "justify_content": null,
            "_view_module": "@jupyter-widgets/base",
            "overflow": null,
            "_model_module_version": "1.2.0",
            "_view_count": null,
            "flex_flow": null,
            "width": null,
            "min_width": null,
            "border": null,
            "align_items": null,
            "bottom": null,
            "_model_module": "@jupyter-widgets/base",
            "top": null,
            "grid_column": null,
            "overflow_y": null,
            "overflow_x": null,
            "grid_auto_flow": null,
            "grid_area": null,
            "grid_template_columns": null,
            "flex": null,
            "_model_name": "LayoutModel",
            "justify_items": null,
            "grid_row": null,
            "max_height": null,
            "align_content": null,
            "visibility": null,
            "align_self": null,
            "height": null,
            "min_height": null,
            "padding": null,
            "grid_auto_rows": null,
            "grid_gap": null,
            "max_width": null,
            "order": null,
            "_view_module_version": "1.2.0",
            "grid_template_areas": null,
            "object_position": null,
            "object_fit": null,
            "grid_auto_columns": null,
            "margin": null,
            "display": null,
            "left": null
          }
        },
        "88d662ab99d94a588b3d657227c7a0d8": {
          "model_module": "@jupyter-widgets/controls",
          "model_name": "VBoxModel",
          "state": {
            "_view_name": "VBoxView",
            "_dom_classes": [
              "widget-interact"
            ],
            "_model_name": "VBoxModel",
            "_view_module": "@jupyter-widgets/controls",
            "_model_module_version": "1.5.0",
            "_view_count": null,
            "_view_module_version": "1.5.0",
            "box_style": "",
            "layout": "IPY_MODEL_ea554ca065784736a20b0d52481884aa",
            "_model_module": "@jupyter-widgets/controls",
            "children": [
              "IPY_MODEL_4caa4270fd1b4f9299cef9c551f39bb2",
              "IPY_MODEL_37b9c907f17f4237a046a10d4459822e",
              "IPY_MODEL_8d98fc7b7acb4988a7002bab4dbe7600"
            ]
          }
        },
        "ea554ca065784736a20b0d52481884aa": {
          "model_module": "@jupyter-widgets/base",
          "model_name": "LayoutModel",
          "state": {
            "_view_name": "LayoutView",
            "grid_template_rows": null,
            "right": null,
            "justify_content": null,
            "_view_module": "@jupyter-widgets/base",
            "overflow": null,
            "_model_module_version": "1.2.0",
            "_view_count": null,
            "flex_flow": null,
            "width": null,
            "min_width": null,
            "border": null,
            "align_items": null,
            "bottom": null,
            "_model_module": "@jupyter-widgets/base",
            "top": null,
            "grid_column": null,
            "overflow_y": null,
            "overflow_x": null,
            "grid_auto_flow": null,
            "grid_area": null,
            "grid_template_columns": null,
            "flex": null,
            "_model_name": "LayoutModel",
            "justify_items": null,
            "grid_row": null,
            "max_height": null,
            "align_content": null,
            "visibility": null,
            "align_self": null,
            "height": null,
            "min_height": null,
            "padding": null,
            "grid_auto_rows": null,
            "grid_gap": null,
            "max_width": null,
            "order": null,
            "_view_module_version": "1.2.0",
            "grid_template_areas": null,
            "object_position": null,
            "object_fit": null,
            "grid_auto_columns": null,
            "margin": null,
            "display": null,
            "left": null
          }
        },
        "4caa4270fd1b4f9299cef9c551f39bb2": {
          "model_module": "@jupyter-widgets/controls",
          "model_name": "IntSliderModel",
          "state": {
            "_view_name": "IntSliderView",
            "style": "IPY_MODEL_1381ddf72d084e40a8258b53fd4ee983",
            "_dom_classes": [],
            "description": "depth",
            "step": 1,
            "_model_name": "IntSliderModel",
            "orientation": "horizontal",
            "max": 7,
            "_view_module": "@jupyter-widgets/controls",
            "_model_module_version": "1.5.0",
            "value": 1,
            "_view_count": null,
            "disabled": false,
            "_view_module_version": "1.5.0",
            "min": 1,
            "continuous_update": true,
            "readout_format": "d",
            "description_tooltip": null,
            "readout": true,
            "_model_module": "@jupyter-widgets/controls",
            "layout": "IPY_MODEL_9e6b417f2cc34e0ab6bfb4f41bd2e433"
          }
        },
        "37b9c907f17f4237a046a10d4459822e": {
          "model_module": "@jupyter-widgets/controls",
          "model_name": "IntSliderModel",
          "state": {
            "_view_name": "IntSliderView",
            "style": "IPY_MODEL_bb6c5507bfae4c4681189d0fca398f40",
            "_dom_classes": [],
            "description": "min_samples_leaf",
            "step": 1,
            "_model_name": "IntSliderModel",
            "orientation": "horizontal",
            "max": 10,
            "_view_module": "@jupyter-widgets/controls",
            "_model_module_version": "1.5.0",
            "value": 1,
            "_view_count": null,
            "disabled": false,
            "_view_module_version": "1.5.0",
            "min": 1,
            "continuous_update": true,
            "readout_format": "d",
            "description_tooltip": null,
            "readout": true,
            "_model_module": "@jupyter-widgets/controls",
            "layout": "IPY_MODEL_a472285a166d40bb964acf02cd9d8295"
          }
        },
        "8d98fc7b7acb4988a7002bab4dbe7600": {
          "model_module": "@jupyter-widgets/output",
          "model_name": "OutputModel",
          "state": {
            "_view_name": "OutputView",
            "msg_id": "",
            "_dom_classes": [],
            "_model_name": "OutputModel",
            "outputs": [
              {
                "output_type": "display_data",
                "metadata": {
                  "tags": []
                },
                "image/png": "iVBORw0KGgoAAAANSUhEUgAAAX4AAAFzCAYAAAA5RGIiAAAABHNCSVQICAgIfAhkiAAAAAlwSFlz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\nktQwBr8kNYzBL0kN8/8BUNHiaCbrpgUAAAAASUVORK5CYII=\n",
                "text/plain": "<Figure size 432x432 with 1 Axes>"
              }
            ],
            "_view_module": "@jupyter-widgets/output",
            "_model_module_version": "1.0.0",
            "_view_count": null,
            "_view_module_version": "1.0.0",
            "layout": "IPY_MODEL_6869fdb4b8104398b20a0ea6a34a1d2e",
            "_model_module": "@jupyter-widgets/output"
          }
        },
        "1381ddf72d084e40a8258b53fd4ee983": {
          "model_module": "@jupyter-widgets/controls",
          "model_name": "SliderStyleModel",
          "state": {
            "_view_name": "StyleView",
            "handle_color": null,
            "_model_name": "SliderStyleModel",
            "description_width": "",
            "_view_module": "@jupyter-widgets/base",
            "_model_module_version": "1.5.0",
            "_view_count": null,
            "_view_module_version": "1.2.0",
            "_model_module": "@jupyter-widgets/controls"
          }
        },
        "9e6b417f2cc34e0ab6bfb4f41bd2e433": {
          "model_module": "@jupyter-widgets/base",
          "model_name": "LayoutModel",
          "state": {
            "_view_name": "LayoutView",
            "grid_template_rows": null,
            "right": null,
            "justify_content": null,
            "_view_module": "@jupyter-widgets/base",
            "overflow": null,
            "_model_module_version": "1.2.0",
            "_view_count": null,
            "flex_flow": null,
            "width": null,
            "min_width": null,
            "border": null,
            "align_items": null,
            "bottom": null,
            "_model_module": "@jupyter-widgets/base",
            "top": null,
            "grid_column": null,
            "overflow_y": null,
            "overflow_x": null,
            "grid_auto_flow": null,
            "grid_area": null,
            "grid_template_columns": null,
            "flex": null,
            "_model_name": "LayoutModel",
            "justify_items": null,
            "grid_row": null,
            "max_height": null,
            "align_content": null,
            "visibility": null,
            "align_self": null,
            "height": null,
            "min_height": null,
            "padding": null,
            "grid_auto_rows": null,
            "grid_gap": null,
            "max_width": null,
            "order": null,
            "_view_module_version": "1.2.0",
            "grid_template_areas": null,
            "object_position": null,
            "object_fit": null,
            "grid_auto_columns": null,
            "margin": null,
            "display": null,
            "left": null
          }
        },
        "bb6c5507bfae4c4681189d0fca398f40": {
          "model_module": "@jupyter-widgets/controls",
          "model_name": "SliderStyleModel",
          "state": {
            "_view_name": "StyleView",
            "handle_color": null,
            "_model_name": "SliderStyleModel",
            "description_width": "",
            "_view_module": "@jupyter-widgets/base",
            "_model_module_version": "1.5.0",
            "_view_count": null,
            "_view_module_version": "1.2.0",
            "_model_module": "@jupyter-widgets/controls"
          }
        },
        "a472285a166d40bb964acf02cd9d8295": {
          "model_module": "@jupyter-widgets/base",
          "model_name": "LayoutModel",
          "state": {
            "_view_name": "LayoutView",
            "grid_template_rows": null,
            "right": null,
            "justify_content": null,
            "_view_module": "@jupyter-widgets/base",
            "overflow": null,
            "_model_module_version": "1.2.0",
            "_view_count": null,
            "flex_flow": null,
            "width": null,
            "min_width": null,
            "border": null,
            "align_items": null,
            "bottom": null,
            "_model_module": "@jupyter-widgets/base",
            "top": null,
            "grid_column": null,
            "overflow_y": null,
            "overflow_x": null,
            "grid_auto_flow": null,
            "grid_area": null,
            "grid_template_columns": null,
            "flex": null,
            "_model_name": "LayoutModel",
            "justify_items": null,
            "grid_row": null,
            "max_height": null,
            "align_content": null,
            "visibility": null,
            "align_self": null,
            "height": null,
            "min_height": null,
            "padding": null,
            "grid_auto_rows": null,
            "grid_gap": null,
            "max_width": null,
            "order": null,
            "_view_module_version": "1.2.0",
            "grid_template_areas": null,
            "object_position": null,
            "object_fit": null,
            "grid_auto_columns": null,
            "margin": null,
            "display": null,
            "left": null
          }
        },
        "b492d6f562ba4a58b48d2b587b42e37a": {
          "model_module": "@jupyter-widgets/controls",
          "model_name": "VBoxModel",
          "state": {
            "_view_name": "VBoxView",
            "_dom_classes": [
              "widget-interact"
            ],
            "_model_name": "VBoxModel",
            "_view_module": "@jupyter-widgets/controls",
            "_model_module_version": "1.5.0",
            "_view_count": null,
            "_view_module_version": "1.5.0",
            "box_style": "",
            "layout": "IPY_MODEL_a25c6cba686946899264e3998bde1578",
            "_model_module": "@jupyter-widgets/controls",
            "children": [
              "IPY_MODEL_991f0a97593244ad8e99bee48d1ce2d7",
              "IPY_MODEL_6976f1dd578f4f208ddb83f169488fc6",
              "IPY_MODEL_a65b20803bd24227b8d544adf8c2b545"
            ]
          }
        },
        "a25c6cba686946899264e3998bde1578": {
          "model_module": "@jupyter-widgets/base",
          "model_name": "LayoutModel",
          "state": {
            "_view_name": "LayoutView",
            "grid_template_rows": null,
            "right": null,
            "justify_content": null,
            "_view_module": "@jupyter-widgets/base",
            "overflow": null,
            "_model_module_version": "1.2.0",
            "_view_count": null,
            "flex_flow": null,
            "width": null,
            "min_width": null,
            "border": null,
            "align_items": null,
            "bottom": null,
            "_model_module": "@jupyter-widgets/base",
            "top": null,
            "grid_column": null,
            "overflow_y": null,
            "overflow_x": null,
            "grid_auto_flow": null,
            "grid_area": null,
            "grid_template_columns": null,
            "flex": null,
            "_model_name": "LayoutModel",
            "justify_items": null,
            "grid_row": null,
            "max_height": null,
            "align_content": null,
            "visibility": null,
            "align_self": null,
            "height": null,
            "min_height": null,
            "padding": null,
            "grid_auto_rows": null,
            "grid_gap": null,
            "max_width": null,
            "order": null,
            "_view_module_version": "1.2.0",
            "grid_template_areas": null,
            "object_position": null,
            "object_fit": null,
            "grid_auto_columns": null,
            "margin": null,
            "display": null,
            "left": null
          }
        },
        "991f0a97593244ad8e99bee48d1ce2d7": {
          "model_module": "@jupyter-widgets/controls",
          "model_name": "ToggleButtonModel",
          "state": {
            "_view_name": "ToggleButtonView",
            "style": "IPY_MODEL_1d1dadd2caa14d1e8ef0103857756a1c",
            "_dom_classes": [],
            "description": "bootstrap",
            "_model_name": "ToggleButtonModel",
            "button_style": "",
            "_view_module": "@jupyter-widgets/controls",
            "_model_module_version": "1.5.0",
            "tooltip": "",
            "_view_count": null,
            "disabled": false,
            "_view_module_version": "1.5.0",
            "value": false,
            "description_tooltip": null,
            "_model_module": "@jupyter-widgets/controls",
            "layout": "IPY_MODEL_98a5111423ad4aa98ba3b410ab204038",
            "icon": ""
          }
        },
        "6976f1dd578f4f208ddb83f169488fc6": {
          "model_module": "@jupyter-widgets/controls",
          "model_name": "ToggleButtonModel",
          "state": {
            "_view_name": "ToggleButtonView",
            "style": "IPY_MODEL_44331951606c43cabdd91fef25c8fb66",
            "_dom_classes": [],
            "description": "fit",
            "_model_name": "ToggleButtonModel",
            "button_style": "",
            "_view_module": "@jupyter-widgets/controls",
            "_model_module_version": "1.5.0",
            "tooltip": "",
            "_view_count": null,
            "disabled": false,
            "_view_module_version": "1.5.0",
            "value": false,
            "description_tooltip": null,
            "_model_module": "@jupyter-widgets/controls",
            "layout": "IPY_MODEL_2554135c3fd149d9b3eb36ba092844d1",
            "icon": ""
          }
        },
        "a65b20803bd24227b8d544adf8c2b545": {
          "model_module": "@jupyter-widgets/output",
          "model_name": "OutputModel",
          "state": {
            "_view_name": "OutputView",
            "msg_id": "",
            "_dom_classes": [],
            "_model_name": "OutputModel",
            "outputs": [
              {
                "output_type": "display_data",
                "metadata": {
                  "tags": []
                },
                "image/png": "iVBORw0KGgoAAAANSUhEUgAAAXAAAAFlCAYAAADyArMXAAAABHNCSVQICAgIfAhkiAAAAAlwSFlz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\nAAAAAElFTkSuQmCC\n",
                "text/plain": "<Figure size 432x432 with 1 Axes>"
              }
            ],
            "_view_module": "@jupyter-widgets/output",
            "_model_module_version": "1.0.0",
            "_view_count": null,
            "_view_module_version": "1.0.0",
            "layout": "IPY_MODEL_2e70ecb2e7d444588e0dabb704bbcca1",
            "_model_module": "@jupyter-widgets/output"
          }
        },
        "1d1dadd2caa14d1e8ef0103857756a1c": {
          "model_module": "@jupyter-widgets/controls",
          "model_name": "DescriptionStyleModel",
          "state": {
            "_view_name": "StyleView",
            "_model_name": "DescriptionStyleModel",
            "description_width": "",
            "_view_module": "@jupyter-widgets/base",
            "_model_module_version": "1.5.0",
            "_view_count": null,
            "_view_module_version": "1.2.0",
            "_model_module": "@jupyter-widgets/controls"
          }
        },
        "98a5111423ad4aa98ba3b410ab204038": {
          "model_module": "@jupyter-widgets/base",
          "model_name": "LayoutModel",
          "state": {
            "_view_name": "LayoutView",
            "grid_template_rows": null,
            "right": null,
            "justify_content": null,
            "_view_module": "@jupyter-widgets/base",
            "overflow": null,
            "_model_module_version": "1.2.0",
            "_view_count": null,
            "flex_flow": null,
            "width": null,
            "min_width": null,
            "border": null,
            "align_items": null,
            "bottom": null,
            "_model_module": "@jupyter-widgets/base",
            "top": null,
            "grid_column": null,
            "overflow_y": null,
            "overflow_x": null,
            "grid_auto_flow": null,
            "grid_area": null,
            "grid_template_columns": null,
            "flex": null,
            "_model_name": "LayoutModel",
            "justify_items": null,
            "grid_row": null,
            "max_height": null,
            "align_content": null,
            "visibility": null,
            "align_self": null,
            "height": null,
            "min_height": null,
            "padding": null,
            "grid_auto_rows": null,
            "grid_gap": null,
            "max_width": null,
            "order": null,
            "_view_module_version": "1.2.0",
            "grid_template_areas": null,
            "object_position": null,
            "object_fit": null,
            "grid_auto_columns": null,
            "margin": null,
            "display": null,
            "left": null
          }
        },
        "44331951606c43cabdd91fef25c8fb66": {
          "model_module": "@jupyter-widgets/controls",
          "model_name": "DescriptionStyleModel",
          "state": {
            "_view_name": "StyleView",
            "_model_name": "DescriptionStyleModel",
            "description_width": "",
            "_view_module": "@jupyter-widgets/base",
            "_model_module_version": "1.5.0",
            "_view_count": null,
            "_view_module_version": "1.2.0",
            "_model_module": "@jupyter-widgets/controls"
          }
        },
        "2554135c3fd149d9b3eb36ba092844d1": {
          "model_module": "@jupyter-widgets/base",
          "model_name": "LayoutModel",
          "state": {
            "_view_name": "LayoutView",
            "grid_template_rows": null,
            "right": null,
            "justify_content": null,
            "_view_module": "@jupyter-widgets/base",
            "overflow": null,
            "_model_module_version": "1.2.0",
            "_view_count": null,
            "flex_flow": null,
            "width": null,
            "min_width": null,
            "border": null,
            "align_items": null,
            "bottom": null,
            "_model_module": "@jupyter-widgets/base",
            "top": null,
            "grid_column": null,
            "overflow_y": null,
            "overflow_x": null,
            "grid_auto_flow": null,
            "grid_area": null,
            "grid_template_columns": null,
            "flex": null,
            "_model_name": "LayoutModel",
            "justify_items": null,
            "grid_row": null,
            "max_height": null,
            "align_content": null,
            "visibility": null,
            "align_self": null,
            "height": null,
            "min_height": null,
            "padding": null,
            "grid_auto_rows": null,
            "grid_gap": null,
            "max_width": null,
            "order": null,
            "_view_module_version": "1.2.0",
            "grid_template_areas": null,
            "object_position": null,
            "object_fit": null,
            "grid_auto_columns": null,
            "margin": null,
            "display": null,
            "left": null
          }
        },
        "aaa208df337f40c1b27d24af1100ff26": {
          "model_module": "@jupyter-widgets/controls",
          "model_name": "VBoxModel",
          "state": {
            "_view_name": "VBoxView",
            "_dom_classes": [
              "widget-interact"
            ],
            "_model_name": "VBoxModel",
            "_view_module": "@jupyter-widgets/controls",
            "_model_module_version": "1.5.0",
            "_view_count": null,
            "_view_module_version": "1.5.0",
            "box_style": "",
            "layout": "IPY_MODEL_f726b5b5148f473f9ef6e955ff22570c",
            "_model_module": "@jupyter-widgets/controls",
            "children": [
              "IPY_MODEL_02beda3942b343969794dbf14fc30fa2",
              "IPY_MODEL_a696b1b64b8c45a18f8529650ae324a0",
              "IPY_MODEL_94eb6f7fba2849b1a9a4401405034e4d",
              "IPY_MODEL_550fed4f9c0543449e6f46088e2c1a23"
            ]
          }
        },
        "f726b5b5148f473f9ef6e955ff22570c": {
          "model_module": "@jupyter-widgets/base",
          "model_name": "LayoutModel",
          "state": {
            "_view_name": "LayoutView",
            "grid_template_rows": null,
            "right": null,
            "justify_content": null,
            "_view_module": "@jupyter-widgets/base",
            "overflow": null,
            "_model_module_version": "1.2.0",
            "_view_count": null,
            "flex_flow": null,
            "width": null,
            "min_width": null,
            "border": null,
            "align_items": null,
            "bottom": null,
            "_model_module": "@jupyter-widgets/base",
            "top": null,
            "grid_column": null,
            "overflow_y": null,
            "overflow_x": null,
            "grid_auto_flow": null,
            "grid_area": null,
            "grid_template_columns": null,
            "flex": null,
            "_model_name": "LayoutModel",
            "justify_items": null,
            "grid_row": null,
            "max_height": null,
            "align_content": null,
            "visibility": null,
            "align_self": null,
            "height": null,
            "min_height": null,
            "padding": null,
            "grid_auto_rows": null,
            "grid_gap": null,
            "max_width": null,
            "order": null,
            "_view_module_version": "1.2.0",
            "grid_template_areas": null,
            "object_position": null,
            "object_fit": null,
            "grid_auto_columns": null,
            "margin": null,
            "display": null,
            "left": null
          }
        },
        "02beda3942b343969794dbf14fc30fa2": {
          "model_module": "@jupyter-widgets/controls",
          "model_name": "IntSliderModel",
          "state": {
            "_view_name": "IntSliderView",
            "style": "IPY_MODEL_0dc0ee8e220a46eb96f6b343f85959aa",
            "_dom_classes": [],
            "description": "n_tree",
            "step": 1,
            "_model_name": "IntSliderModel",
            "orientation": "horizontal",
            "max": 6,
            "_view_module": "@jupyter-widgets/controls",
            "_model_module_version": "1.5.0",
            "value": 6,
            "_view_count": null,
            "disabled": false,
            "_view_module_version": "1.5.0",
            "min": 1,
            "continuous_update": true,
            "readout_format": "d",
            "description_tooltip": null,
            "readout": true,
            "_model_module": "@jupyter-widgets/controls",
            "layout": "IPY_MODEL_8bd4b79bfec24ba2a401c3249c9bc00f"
          }
        },
        "a696b1b64b8c45a18f8529650ae324a0": {
          "model_module": "@jupyter-widgets/controls",
          "model_name": "IntSliderModel",
          "state": {
            "_view_name": "IntSliderView",
            "style": "IPY_MODEL_efc2f76c1da14172b311a7f3fe562f88",
            "_dom_classes": [],
            "description": "depth",
            "step": 1,
            "_model_name": "IntSliderModel",
            "orientation": "horizontal",
            "max": 7,
            "_view_module": "@jupyter-widgets/controls",
            "_model_module_version": "1.5.0",
            "value": 4,
            "_view_count": null,
            "disabled": false,
            "_view_module_version": "1.5.0",
            "min": 1,
            "continuous_update": true,
            "readout_format": "d",
            "description_tooltip": null,
            "readout": true,
            "_model_module": "@jupyter-widgets/controls",
            "layout": "IPY_MODEL_cad1ac4b3a6843e2b9f8365918c2a67e"
          }
        },
        "94eb6f7fba2849b1a9a4401405034e4d": {
          "model_module": "@jupyter-widgets/controls",
          "model_name": "ToggleButtonsModel",
          "state": {
            "_options_labels": [
              "bootstrap",
              "aggregate"
            ],
            "_view_name": "ToggleButtonsView",
            "style": "IPY_MODEL_ccfc3ac25cf14f3d9bb992d94fe5e0e8",
            "_dom_classes": [],
            "description": "phase",
            "_model_name": "ToggleButtonsModel",
            "tooltips": [],
            "index": 1,
            "button_style": "",
            "_view_module": "@jupyter-widgets/controls",
            "_model_module_version": "1.5.0",
            "_view_count": null,
            "disabled": false,
            "_view_module_version": "1.5.0",
            "icons": [],
            "description_tooltip": null,
            "_model_module": "@jupyter-widgets/controls",
            "layout": "IPY_MODEL_c2d53704642248aa8d92e42dcffb3aa7"
          }
        },
        "550fed4f9c0543449e6f46088e2c1a23": {
          "model_module": "@jupyter-widgets/output",
          "model_name": "OutputModel",
          "state": {
            "_view_name": "OutputView",
            "msg_id": "",
            "_dom_classes": [],
            "_model_name": "OutputModel",
            "outputs": [
              {
                "output_type": "display_data",
                "metadata": {
                  "tags": []
                },
                "image/png": "iVBORw0KGgoAAAANSUhEUgAAAwUAAAFzCAYAAABvgaWMAAAABHNCSVQICAgIfAhkiAAAAAlwSFlz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\nERER0eH+C8A8Z2JerzcRAAAAAElFTkSuQmCC\n",
                "text/plain": "<Figure size 936x432 with 2 Axes>"
              }
            ],
            "_view_module": "@jupyter-widgets/output",
            "_model_module_version": "1.0.0",
            "_view_count": null,
            "_view_module_version": "1.0.0",
            "layout": "IPY_MODEL_21200cec8da745d68a5b58c8b67d41b9",
            "_model_module": "@jupyter-widgets/output"
          }
        },
        "0dc0ee8e220a46eb96f6b343f85959aa": {
          "model_module": "@jupyter-widgets/controls",
          "model_name": "SliderStyleModel",
          "state": {
            "_view_name": "StyleView",
            "handle_color": null,
            "_model_name": "SliderStyleModel",
            "description_width": "",
            "_view_module": "@jupyter-widgets/base",
            "_model_module_version": "1.5.0",
            "_view_count": null,
            "_view_module_version": "1.2.0",
            "_model_module": "@jupyter-widgets/controls"
          }
        },
        "8bd4b79bfec24ba2a401c3249c9bc00f": {
          "model_module": "@jupyter-widgets/base",
          "model_name": "LayoutModel",
          "state": {
            "_view_name": "LayoutView",
            "grid_template_rows": null,
            "right": null,
            "justify_content": null,
            "_view_module": "@jupyter-widgets/base",
            "overflow": null,
            "_model_module_version": "1.2.0",
            "_view_count": null,
            "flex_flow": null,
            "width": null,
            "min_width": null,
            "border": null,
            "align_items": null,
            "bottom": null,
            "_model_module": "@jupyter-widgets/base",
            "top": null,
            "grid_column": null,
            "overflow_y": null,
            "overflow_x": null,
            "grid_auto_flow": null,
            "grid_area": null,
            "grid_template_columns": null,
            "flex": null,
            "_model_name": "LayoutModel",
            "justify_items": null,
            "grid_row": null,
            "max_height": null,
            "align_content": null,
            "visibility": null,
            "align_self": null,
            "height": null,
            "min_height": null,
            "padding": null,
            "grid_auto_rows": null,
            "grid_gap": null,
            "max_width": null,
            "order": null,
            "_view_module_version": "1.2.0",
            "grid_template_areas": null,
            "object_position": null,
            "object_fit": null,
            "grid_auto_columns": null,
            "margin": null,
            "display": null,
            "left": null
          }
        },
        "efc2f76c1da14172b311a7f3fe562f88": {
          "model_module": "@jupyter-widgets/controls",
          "model_name": "SliderStyleModel",
          "state": {
            "_view_name": "StyleView",
            "handle_color": null,
            "_model_name": "SliderStyleModel",
            "description_width": "",
            "_view_module": "@jupyter-widgets/base",
            "_model_module_version": "1.5.0",
            "_view_count": null,
            "_view_module_version": "1.2.0",
            "_model_module": "@jupyter-widgets/controls"
          }
        },
        "cad1ac4b3a6843e2b9f8365918c2a67e": {
          "model_module": "@jupyter-widgets/base",
          "model_name": "LayoutModel",
          "state": {
            "_view_name": "LayoutView",
            "grid_template_rows": null,
            "right": null,
            "justify_content": null,
            "_view_module": "@jupyter-widgets/base",
            "overflow": null,
            "_model_module_version": "1.2.0",
            "_view_count": null,
            "flex_flow": null,
            "width": null,
            "min_width": null,
            "border": null,
            "align_items": null,
            "bottom": null,
            "_model_module": "@jupyter-widgets/base",
            "top": null,
            "grid_column": null,
            "overflow_y": null,
            "overflow_x": null,
            "grid_auto_flow": null,
            "grid_area": null,
            "grid_template_columns": null,
            "flex": null,
            "_model_name": "LayoutModel",
            "justify_items": null,
            "grid_row": null,
            "max_height": null,
            "align_content": null,
            "visibility": null,
            "align_self": null,
            "height": null,
            "min_height": null,
            "padding": null,
            "grid_auto_rows": null,
            "grid_gap": null,
            "max_width": null,
            "order": null,
            "_view_module_version": "1.2.0",
            "grid_template_areas": null,
            "object_position": null,
            "object_fit": null,
            "grid_auto_columns": null,
            "margin": null,
            "display": null,
            "left": null
          }
        },
        "ccfc3ac25cf14f3d9bb992d94fe5e0e8": {
          "model_module": "@jupyter-widgets/controls",
          "model_name": "ToggleButtonsStyleModel",
          "state": {
            "_view_name": "StyleView",
            "button_width": "",
            "_model_name": "ToggleButtonsStyleModel",
            "description_width": "",
            "_view_module": "@jupyter-widgets/base",
            "_model_module_version": "1.5.0",
            "_view_count": null,
            "font_weight": "",
            "_view_module_version": "1.2.0",
            "_model_module": "@jupyter-widgets/controls"
          }
        },
        "c2d53704642248aa8d92e42dcffb3aa7": {
          "model_module": "@jupyter-widgets/base",
          "model_name": "LayoutModel",
          "state": {
            "_view_name": "LayoutView",
            "grid_template_rows": null,
            "right": null,
            "justify_content": null,
            "_view_module": "@jupyter-widgets/base",
            "overflow": null,
            "_model_module_version": "1.2.0",
            "_view_count": null,
            "flex_flow": null,
            "width": null,
            "min_width": null,
            "border": null,
            "align_items": null,
            "bottom": null,
            "_model_module": "@jupyter-widgets/base",
            "top": null,
            "grid_column": null,
            "overflow_y": null,
            "overflow_x": null,
            "grid_auto_flow": null,
            "grid_area": null,
            "grid_template_columns": null,
            "flex": null,
            "_model_name": "LayoutModel",
            "justify_items": null,
            "grid_row": null,
            "max_height": null,
            "align_content": null,
            "visibility": null,
            "align_self": null,
            "height": null,
            "min_height": null,
            "padding": null,
            "grid_auto_rows": null,
            "grid_gap": null,
            "max_width": null,
            "order": null,
            "_view_module_version": "1.2.0",
            "grid_template_areas": null,
            "object_position": null,
            "object_fit": null,
            "grid_auto_columns": null,
            "margin": null,
            "display": null,
            "left": null
          }
        },
        "e552a8e58d0b497490e458cdc4ff8351": {
          "model_module": "@jupyter-widgets/controls",
          "model_name": "VBoxModel",
          "state": {
            "_view_name": "VBoxView",
            "_dom_classes": [
              "widget-interact"
            ],
            "_model_name": "VBoxModel",
            "_view_module": "@jupyter-widgets/controls",
            "_model_module_version": "1.5.0",
            "_view_count": null,
            "_view_module_version": "1.5.0",
            "box_style": "",
            "layout": "IPY_MODEL_60847c9161e04d36ba9f2a87b199a981",
            "_model_module": "@jupyter-widgets/controls",
            "children": [
              "IPY_MODEL_9c24b8e6b67c46e196ee34ca4e651c2c",
              "IPY_MODEL_a52d539a51e84dba9c32e169e9a2ecbb"
            ]
          }
        },
        "60847c9161e04d36ba9f2a87b199a981": {
          "model_module": "@jupyter-widgets/base",
          "model_name": "LayoutModel",
          "state": {
            "_view_name": "LayoutView",
            "grid_template_rows": null,
            "right": null,
            "justify_content": null,
            "_view_module": "@jupyter-widgets/base",
            "overflow": null,
            "_model_module_version": "1.2.0",
            "_view_count": null,
            "flex_flow": null,
            "width": null,
            "min_width": null,
            "border": null,
            "align_items": null,
            "bottom": null,
            "_model_module": "@jupyter-widgets/base",
            "top": null,
            "grid_column": null,
            "overflow_y": null,
            "overflow_x": null,
            "grid_auto_flow": null,
            "grid_area": null,
            "grid_template_columns": null,
            "flex": null,
            "_model_name": "LayoutModel",
            "justify_items": null,
            "grid_row": null,
            "max_height": null,
            "align_content": null,
            "visibility": null,
            "align_self": null,
            "height": null,
            "min_height": null,
            "padding": null,
            "grid_auto_rows": null,
            "grid_gap": null,
            "max_width": null,
            "order": null,
            "_view_module_version": "1.2.0",
            "grid_template_areas": null,
            "object_position": null,
            "object_fit": null,
            "grid_auto_columns": null,
            "margin": null,
            "display": null,
            "left": null
          }
        },
        "9c24b8e6b67c46e196ee34ca4e651c2c": {
          "model_module": "@jupyter-widgets/controls",
          "model_name": "IntSliderModel",
          "state": {
            "_view_name": "IntSliderView",
            "style": "IPY_MODEL_403c3c58898847b0840b3bc83423b070",
            "_dom_classes": [],
            "description": "iterasi",
            "step": 1,
            "_model_name": "IntSliderModel",
            "orientation": "horizontal",
            "max": 30,
            "_view_module": "@jupyter-widgets/controls",
            "_model_module_version": "1.5.0",
            "value": 9,
            "_view_count": null,
            "disabled": false,
            "_view_module_version": "1.5.0",
            "min": 0,
            "continuous_update": true,
            "readout_format": "d",
            "description_tooltip": null,
            "readout": true,
            "_model_module": "@jupyter-widgets/controls",
            "layout": "IPY_MODEL_a2a066074bdc4ceaad19b467a6e0e870"
          }
        },
        "a52d539a51e84dba9c32e169e9a2ecbb": {
          "model_module": "@jupyter-widgets/output",
          "model_name": "OutputModel",
          "state": {
            "_view_name": "OutputView",
            "msg_id": "",
            "_dom_classes": [],
            "_model_name": "OutputModel",
            "outputs": [
              {
                "output_type": "display_data",
                "metadata": {
                  "tags": []
                },
                "image/png": "iVBORw0KGgoAAAANSUhEUgAAA6wAAAFNCAYAAAAEvOJKAAAABHNCSVQICAgIfAhkiAAAAAlwSFlz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\nAElFTkSuQmCC\n",
                "text/plain": "<Figure size 1152x360 with 3 Axes>"
              }
            ],
            "_view_module": "@jupyter-widgets/output",
            "_model_module_version": "1.0.0",
            "_view_count": null,
            "_view_module_version": "1.0.0",
            "layout": "IPY_MODEL_59731b883c4943db810a474f2f038af7",
            "_model_module": "@jupyter-widgets/output"
          }
        },
        "403c3c58898847b0840b3bc83423b070": {
          "model_module": "@jupyter-widgets/controls",
          "model_name": "SliderStyleModel",
          "state": {
            "_view_name": "StyleView",
            "handle_color": null,
            "_model_name": "SliderStyleModel",
            "description_width": "",
            "_view_module": "@jupyter-widgets/base",
            "_model_module_version": "1.5.0",
            "_view_count": null,
            "_view_module_version": "1.2.0",
            "_model_module": "@jupyter-widgets/controls"
          }
        },
        "a2a066074bdc4ceaad19b467a6e0e870": {
          "model_module": "@jupyter-widgets/base",
          "model_name": "LayoutModel",
          "state": {
            "_view_name": "LayoutView",
            "grid_template_rows": null,
            "right": null,
            "justify_content": null,
            "_view_module": "@jupyter-widgets/base",
            "overflow": null,
            "_model_module_version": "1.2.0",
            "_view_count": null,
            "flex_flow": null,
            "width": null,
            "min_width": null,
            "border": null,
            "align_items": null,
            "bottom": null,
            "_model_module": "@jupyter-widgets/base",
            "top": null,
            "grid_column": null,
            "overflow_y": null,
            "overflow_x": null,
            "grid_auto_flow": null,
            "grid_area": null,
            "grid_template_columns": null,
            "flex": null,
            "_model_name": "LayoutModel",
            "justify_items": null,
            "grid_row": null,
            "max_height": null,
            "align_content": null,
            "visibility": null,
            "align_self": null,
            "height": null,
            "min_height": null,
            "padding": null,
            "grid_auto_rows": null,
            "grid_gap": null,
            "max_width": null,
            "order": null,
            "_view_module_version": "1.2.0",
            "grid_template_areas": null,
            "object_position": null,
            "object_fit": null,
            "grid_auto_columns": null,
            "margin": null,
            "display": null,
            "left": null
          }
        }
      }
    }
  },
  "cells": [
    {
      "cell_type": "markdown",
      "metadata": {
        "id": "view-in-github",
        "colab_type": "text"
      },
      "source": [
        "<a href=\"https://colab.research.google.com/github/vindruid/ml-demo/blob/master/Decision_tree_and_family.ipynb\" target=\"_parent\"><img src=\"https://colab.research.google.com/assets/colab-badge.svg\" alt=\"Open In Colab\"/></a>"
      ]
    },
    {
      "cell_type": "markdown",
      "metadata": {
        "id": "09q2Unank1nJ",
        "colab_type": "text"
      },
      "source": [
        "# Viz codes"
      ]
    },
    {
      "cell_type": "code",
      "metadata": {
        "id": "2wXM5lTRIBJT",
        "colab_type": "code",
        "colab": {}
      },
      "source": [
        "import os\n",
        "import numpy as np\n",
        "import pandas as pd\n",
        "import matplotlib.pyplot as plt\n",
        "from ipywidgets import interact, ToggleButton, ToggleButtons\n",
        "from ipywidgets.widgets import SelectionSlider\n",
        "from IPython.display import Image, display\n",
        "\n",
        "from sklearn.tree import DecisionTreeRegressor\n",
        "from sklearn.ensemble import RandomForestRegressor, GradientBoostingRegressor\n",
        "\n",
        "\n",
        "class DemoDecisionTreeAndFriends:\n",
        "    def __init__(self):\n",
        "        np.random.seed(42)\n",
        "        self._X = [0.0, 0.2, 0.4, 0.6, 0.8, 1.0, 1.2, 1.4, 1.6, 1.7, 2.0, 2.2, 2.4, 2.6, 2.8, 3.0, 3.2, 3.4, 3.6, 3.8, 4.0, 4.4, 4.9, 5.3, 6.0, 6.5, 7.3, 8.1, 8.4, 8.9, 10.2, 10.5]\n",
        "        self._y = [5.8, 5.8, 5.6, 6.0, 5.9, 6.5, 6.3, 6.8, 7.2, 6.8, 7.0, 8.5, 8.9, 8.2, 8.7, 7.3, 8.7, 8.9, 10.1, 10.5, 13.0, 13.6, 17.0, 25.0, 35.0, 24.0, 28.0, 39.0, 42.0, 29.0, 61.0, 49.0]\n",
        "        self._X = np.array(self._X).reshape(-1, 1)\n",
        "        self._y = np.array(self._y)\n",
        "        self._space = np.linspace(min(self._X), max(self._X), 250).reshape(-1, 1)\n",
        "        \n",
        "        self._state = 0\n",
        "\n",
        "    def data(self):\n",
        "        plt.figure(figsize=(6, 6))\n",
        "        plt.scatter(self._X.ravel(), self._y, s=10, c='k')\n",
        "        plt.xlabel('Pengalaman Kerja (Tahun)')\n",
        "        plt.ylabel('Gaji (Juta)')\n",
        "\n",
        "    def decision_tree(self):\n",
        "        def _calc_rmse(x):\n",
        "            mask = X <= x\n",
        "            x1, y1 = X[mask], y[mask]\n",
        "\n",
        "            mask = X > x\n",
        "            x2, y2 = X[mask], y[mask]\n",
        "\n",
        "            mean1, mean2 = y1.mean(), y2.mean()\n",
        "            rmse1 = np.sqrt(np.mean((y1 - mean1) ** 2))\n",
        "            rmse2 = np.sqrt(np.mean((y2 - mean2) ** 2))\n",
        "            w1 = len(y1) / len(y)\n",
        "            w2 = len(y2) / len(y)\n",
        "            rmse = w1 * rmse1 + w2 * rmse2\n",
        "            return x1, y1, x2, y2, mean1, mean2, rmse\n",
        "\n",
        "        def _simul(x, show_error=False):\n",
        "            x1, y1, x2, y2, mean1, mean2, rmse = _calc_rmse(x)\n",
        "\n",
        "            plt.figure(figsize=(15, 6))\n",
        "\n",
        "            plt.subplot(121)\n",
        "            plt.scatter(x1, y1, c='b', s=50)\n",
        "            plt.scatter(x2, y2, c='g', s=50)\n",
        "            plt.plot([minX, x, x, maxX], [mean1, mean1, mean2, mean2], 'r-')\n",
        "            plt.title(f\"Decision: X<={x:.2f} | error: {rmse:.2f}\", fontsize=14)\n",
        "            plt.xlabel('Pengalaman Kerja (Tahun)')\n",
        "            plt.ylabel('Gaji (Juta)')\n",
        "\n",
        "            if show_error:\n",
        "                plt.subplot(122)\n",
        "                plt.scatter(decisions, error, c='k', s=30)\n",
        "                plt.axvline(x, color='r')\n",
        "                plt.ylabel(\"Weighted RMSE\")\n",
        "\n",
        "        X, y = self._X.ravel(), self._y\n",
        "        minX, maxX = X.min(), X.max()\n",
        "        decisions = [(x1 + x2) / 2 for x1, x2 in zip(X[:-1], X[1:])]\n",
        "        error = [_calc_rmse(x)[-1] for x in decisions]\n",
        "        interact(_simul,\n",
        "                 x=SelectionSlider(options=decisions, value=decisions[10], description='decision', readout=False))\n",
        "\n",
        "    def max_depth(self):\n",
        "        def _simul(depth=1,):\n",
        "            dt = DecisionTreeRegressor(max_depth=depth)\n",
        "            dt.fit(X, y)\n",
        "\n",
        "            plt.figure(figsize=(6, 6))\n",
        "            plt.scatter(X, y, s=10, c='k')\n",
        "            plt.xlabel('Pengalaman Kerja (Tahun)')\n",
        "            plt.ylabel('Gaji (Juta)')\n",
        "            plt.plot(space, dt.predict(space), 'r-')\n",
        "\n",
        "        # here = os.path.dirname(__file__)\n",
        "        X, y = self._X, self._y\n",
        "        space = self._space\n",
        "        interact(_simul, depth=(1, 7, 1))\n",
        "\n",
        "    def min_samples_leaf(self):\n",
        "        def _simul(depth=1, min_samples_leaf=1):\n",
        "            dt = DecisionTreeRegressor(max_depth=depth, min_samples_leaf=min_samples_leaf)\n",
        "            dt.fit(X, y)\n",
        "\n",
        "            plt.figure(figsize=(6, 6))\n",
        "            plt.scatter(X, y, s=10, c='k')\n",
        "            plt.xlabel('Pengalaman Kerja (Tahun)')\n",
        "            plt.ylabel('Gaji (Juta)')\n",
        "            plt.plot(space, dt.predict(space), 'r-')\n",
        "\n",
        "        X, y = self._X, self._y\n",
        "        space = self._space\n",
        "        interact(_simul, depth=(1, 7, 1), min_samples_leaf=(1, 10, 1))\n",
        "\n",
        "    def bootstrap(self):\n",
        "        def _simul(bootstrap, fit):\n",
        "            st = np.random.RandomState(self._state)\n",
        "\n",
        "            plt.figure(figsize=(6, 6))\n",
        "            plt.scatter(X, y, s=10, c='b')\n",
        "            X_mask, y_mask = X, y\n",
        "\n",
        "            if bootstrap:\n",
        "                mask = st.choice(len(X), size=len(X), replace=True)\n",
        "                mask = list(set(mask))\n",
        "                X_mask, y_mask = X[mask], y[mask]\n",
        "                plt.xlabel('Pengalaman Kerja (Tahun)')\n",
        "                plt.ylabel('Gaji (Juta)')\n",
        "                plt.scatter(X_mask, y_mask, s=100, facecolors='none', edgecolors='r')\n",
        "            else:\n",
        "                self._state += 1\n",
        "\n",
        "            if fit:\n",
        "                dt = DecisionTreeRegressor(max_depth=7)\n",
        "                dt.fit(X_mask, y_mask)\n",
        "                plt.xlabel('Pengalaman Kerja (Tahun)')\n",
        "                plt.ylabel('Gaji (Juta)')\n",
        "                plt.plot(space, dt.predict(space), 'r-')\n",
        "\n",
        "        X, y = self._X, self._y\n",
        "        space = self._space\n",
        "        interact(_simul, bootstrap=ToggleButton(value=False, description='bootstrap'),\n",
        "                 fit=ToggleButton(value=False, description='fit'))\n",
        "\n",
        "    def bagging(self):\n",
        "        def _simul(n_tree=1, depth=1, phase='bootstrap'):\n",
        "            rf = RandomForestRegressor(n_estimators=n_tree, max_depth=depth, random_state=42)\n",
        "            rf.fit(X, y)\n",
        "\n",
        "            if phase == \"bootstrap\":\n",
        "                plt.figure(figsize=(13, 9))\n",
        "                for idx, dt in enumerate(rf.estimators_, 1):\n",
        "                    plt.subplot(2, 3, idx)\n",
        "                    plt.xlabel('Pengalaman Kerja (Tahun)')\n",
        "                    plt.ylabel('Gaji (Juta)')\n",
        "                    plt.scatter(X, y, s=10, c='k')\n",
        "                    plt.plot(space, dt.predict(space), 'r-')\n",
        "            elif phase == \"aggregate\":\n",
        "                plt.figure(figsize=(13, 6))\n",
        "\n",
        "                plt.subplot(121)\n",
        "                plt.xlabel('Pengalaman Kerja (Tahun)')\n",
        "                plt.ylabel('Gaji (Juta)')\n",
        "                plt.scatter(X, y, s=10, c='k')\n",
        "                for idx, dt in enumerate(rf.estimators_, 1):\n",
        "                    plt.plot(space, dt.predict(space), 'r-')\n",
        "\n",
        "                plt.subplot(122)\n",
        "                plt.xlabel('Pengalaman Kerja (Tahun)')\n",
        "                plt.ylabel('Gaji (Juta)')\n",
        "                plt.scatter(X, y, s=10, c='k')\n",
        "                plt.plot(space, rf.predict(space), 'r-')\n",
        "\n",
        "        X, y = self._X, self._y\n",
        "        space = self._space\n",
        "        interact(_simul, depth=(1, 7, 1), n_tree=(1, 6, 1),\n",
        "                 phase=ToggleButtons(options=['bootstrap', 'aggregate'], description='phase'))\n",
        "        \n",
        "    def gradient_boosting(self):\n",
        "        def _simul(iterasi=0):\n",
        "            prediction_space = predict_per_iteration(self._space, iterasi)\n",
        "            prediction_at_iteration = model.estimators_[iterasi][0].predict(self._space)\n",
        "            prediction = predict_per_iteration(self._X, iterasi)\n",
        "            residual = self._y - prediction\n",
        "\n",
        "            plt.figure(figsize=(16, 5))\n",
        "\n",
        "            plt.subplot(131)\n",
        "            plt.xlabel('Pengalaman Kerja (Tahun)')\n",
        "            plt.ylabel('Gaji (Juta)')\n",
        "            plt.scatter(self._X.ravel(), self._y, s=10, c='b')\n",
        "            plt.plot(self._space, prediction_space, 'r-') \n",
        "            plt.ylim(0, int(self._y.max() + 5))\n",
        "            plt.title(\"Ensemble Prediction\")\n",
        "\n",
        "            plt.subplot(132)\n",
        "            plt.xlabel('Pengalaman Kerja (Tahun)')\n",
        "            plt.ylabel('Gaji (Juta)')\n",
        "            plt.scatter(self._X.ravel(), residual, s=10, c='k')\n",
        "            plt.axhline(color='k', linewidth=1)\n",
        "            plt.ylim(0 - self._y.mean(), int(self._y.max() + 5) - self._y.mean())\n",
        "            plt.title(f\"Residual (R{iterasi+1})\")\n",
        "\n",
        "            plt.subplot(133)\n",
        "            plt.xlabel('Pengalaman Kerja (Tahun)')\n",
        "            plt.ylabel('Gaji (Juta)')\n",
        "            plt.scatter(self._X.ravel(), residual, s=10, c='k')\n",
        "            plt.plot(self._space, prediction_at_iteration, 'r-')\n",
        "            plt.axhline(color='k', linewidth=1)\n",
        "            plt.ylim(0 - self._y.mean(), int(self._y.max() + 5) - self._y.mean())\n",
        "            plt.title(f\"Fitted Residual (P{iterasi+1})\")\n",
        "\n",
        "        def predict_per_iteration(X, iteration=1):\n",
        "            result = self._y.mean() * np.ones_like(X.ravel())\n",
        "\n",
        "            if iteration > model.n_estimators:\n",
        "                raise Exception(f\"Input iterasi melebihi n_iter={self.n_estimator}\")\n",
        "            for tree in model.estimators_[:iteration]:\n",
        "                result += model.learning_rate * tree[0].predict(X)\n",
        "            return result\n",
        "\n",
        "        model = GradientBoostingRegressor(n_estimators=30, max_depth=1, random_state=42, learning_rate=1)\n",
        "        model.fit(self._X, self._y)\n",
        "        interact(_simul, iterasi=(0, model.n_estimators, 1))\n",
        "\n",
        "demo = DemoDecisionTreeAndFriends()\n"
      ],
      "execution_count": 0,
      "outputs": []
    },
    {
      "cell_type": "markdown",
      "metadata": {
        "id": "jh28GoAEU5Ep",
        "colab_type": "text"
      },
      "source": [
        "# Demo"
      ]
    },
    {
      "cell_type": "markdown",
      "metadata": {
        "id": "EBM25D1nkx8_",
        "colab_type": "text"
      },
      "source": [
        "## Data"
      ]
    },
    {
      "cell_type": "code",
      "metadata": {
        "id": "sYBzTsvqIWgH",
        "colab_type": "code",
        "outputId": "22a250e0-e9e9-408f-ca0b-d78256fb8bf3",
        "colab": {
          "base_uri": "https://localhost:8080/",
          "height": 0
        }
      },
      "source": [
        "demo.data()"
      ],
      "execution_count": 2,
      "outputs": [
        {
          "output_type": "display_data",
          "data": {
            "image/png": "[encoded data removed]",
            "text/plain": [
              "<Figure size 432x432 with 1 Axes>"
            ]
          },
          "metadata": {
            "tags": []
          }
        }
      ]
    },
    {
      "cell_type": "markdown",
      "metadata": {
        "id": "RGMUAO7UkzqF",
        "colab_type": "text"
      },
      "source": [
        "## Decision Tree"
      ]
    },
    {
      "cell_type": "code",
      "metadata": {
        "id": "7Z6E852WIyJn",
        "colab_type": "code",
        "outputId": "2725fe2b-781f-4b31-8adc-b85d43fc03d1",
        "colab": {
          "base_uri": "https://localhost:8080/",
          "height": 0,
          "referenced_widgets": [
            "246686fb57104f02b129a29c04aa0112",
            "e6adf4a5622b4da39adb7fd8407704ad",
            "de023a56fcd84511bebccab969fe9dde",
            "f7bd58bfadf247728e502de94c8e31c3",
            "5b601b08b0d242fdbd7968b004060fed",
            "ad5fdb976cfb40ad99036ec82473c2a7",
            "ce89ebed045d426da3207d01e6bd71dc",
            "34cdfb116c13416ab31a0e980e4f38b2",
            "6678d225dabc4d64a5e6d92d8485ef0f"
          ]
        }
      },
      "source": [
        "demo.decision_tree()"
      ],
      "execution_count": 3,
      "outputs": [
        {
          "output_type": "display_data",
          "data": {
            "application/vnd.jupyter.widget-view+json": {
              "model_id": "246686fb57104f02b129a29c04aa0112",
              "version_minor": 0,
              "version_major": 2
            },
            "text/plain": [
              "interactive(children=(SelectionSlider(description='decision', index=10, options=(0.1, 0.30000000000000004, 0.5…"
            ]
          },
          "metadata": {
            "tags": []
          }
        }
      ]
    },
    {
      "cell_type": "code",
      "metadata": {
        "id": "8P454ZBpI3B9",
        "colab_type": "code",
        "outputId": "28188eb4-0432-4e46-8cf0-f539e0e9afa4",
        "colab": {
          "base_uri": "https://localhost:8080/",
          "height": 0,
          "referenced_widgets": [
            "912eea1ca1994ebba8df6450307fa84c",
            "fb3a9906f7254c7ab1601a2cdf6b7553",
            "2a72cf6f26d74949bb3a26db04cdb38c",
            "0dc8fe4620c848e1b00db2b5cdb17c97",
            "39f8071719294462b924114309f35407",
            "473a1fc1aa9348f98a62cba5b87e71ea"
          ]
        }
      },
      "source": [
        "demo.max_depth()"
      ],
      "execution_count": 4,
      "outputs": [
        {
          "output_type": "display_data",
          "data": {
            "application/vnd.jupyter.widget-view+json": {
              "model_id": "912eea1ca1994ebba8df6450307fa84c",
              "version_minor": 0,
              "version_major": 2
            },
            "text/plain": [
              "interactive(children=(IntSlider(value=1, description='depth', max=7, min=1), Output()), _dom_classes=('widget-…"
            ]
          },
          "metadata": {
            "tags": []
          }
        }
      ]
    },
    {
      "cell_type": "code",
      "metadata": {
        "id": "vdd0OuSKK9Ce",
        "colab_type": "code",
        "outputId": "6452df89-2554-45e5-c56d-3db3e6bf9f33",
        "colab": {
          "base_uri": "https://localhost:8080/",
          "height": 0,
          "referenced_widgets": [
            "88d662ab99d94a588b3d657227c7a0d8",
            "ea554ca065784736a20b0d52481884aa",
            "4caa4270fd1b4f9299cef9c551f39bb2",
            "37b9c907f17f4237a046a10d4459822e",
            "8d98fc7b7acb4988a7002bab4dbe7600",
            "1381ddf72d084e40a8258b53fd4ee983",
            "9e6b417f2cc34e0ab6bfb4f41bd2e433",
            "bb6c5507bfae4c4681189d0fca398f40",
            "a472285a166d40bb964acf02cd9d8295"
          ]
        }
      },
      "source": [
        "demo.min_samples_leaf()"
      ],
      "execution_count": 5,
      "outputs": [
        {
          "output_type": "display_data",
          "data": {
            "application/vnd.jupyter.widget-view+json": {
              "model_id": "88d662ab99d94a588b3d657227c7a0d8",
              "version_minor": 0,
              "version_major": 2
            },
            "text/plain": [
              "interactive(children=(IntSlider(value=1, description='depth', max=7, min=1), IntSlider(value=1, description='m…"
            ]
          },
          "metadata": {
            "tags": []
          }
        }
      ]
    },
    {
      "cell_type": "code",
      "metadata": {
        "id": "yxEIUP1PNChz",
        "colab_type": "code",
        "outputId": "2997a690-b535-4614-c81a-32663a2e72a0",
        "colab": {
          "base_uri": "https://localhost:8080/",
          "height": 0,
          "referenced_widgets": [
            "b492d6f562ba4a58b48d2b587b42e37a",
            "a25c6cba686946899264e3998bde1578",
            "991f0a97593244ad8e99bee48d1ce2d7",
            "6976f1dd578f4f208ddb83f169488fc6",
            "a65b20803bd24227b8d544adf8c2b545",
            "1d1dadd2caa14d1e8ef0103857756a1c",
            "98a5111423ad4aa98ba3b410ab204038",
            "44331951606c43cabdd91fef25c8fb66",
            "2554135c3fd149d9b3eb36ba092844d1"
          ]
        }
      },
      "source": [
        "demo.bootstrap()"
      ],
      "execution_count": 6,
      "outputs": [
        {
          "output_type": "display_data",
          "data": {
            "application/vnd.jupyter.widget-view+json": {
              "model_id": "b492d6f562ba4a58b48d2b587b42e37a",
              "version_minor": 0,
              "version_major": 2
            },
            "text/plain": [
              "interactive(children=(ToggleButton(value=False, description='bootstrap'), ToggleButton(value=False, descriptio…"
            ]
          },
          "metadata": {
            "tags": []
          }
        }
      ]
    },
    {
      "cell_type": "markdown",
      "metadata": {
        "id": "JjeXXHzD5dnA",
        "colab_type": "text"
      },
      "source": [
        "## Bagging"
      ]
    },
    {
      "cell_type": "code",
      "metadata": {
        "id": "WhydjKxxaNyJ",
        "colab_type": "code",
        "outputId": "994bed91-2e55-4ed6-d6e0-940566e6bf7b",
        "colab": {
          "base_uri": "https://localhost:8080/",
          "height": 485,
          "referenced_widgets": [
            "aaa208df337f40c1b27d24af1100ff26",
            "f726b5b5148f473f9ef6e955ff22570c",
            "02beda3942b343969794dbf14fc30fa2",
            "a696b1b64b8c45a18f8529650ae324a0",
            "94eb6f7fba2849b1a9a4401405034e4d",
            "550fed4f9c0543449e6f46088e2c1a23",
            "0dc0ee8e220a46eb96f6b343f85959aa",
            "8bd4b79bfec24ba2a401c3249c9bc00f",
            "efc2f76c1da14172b311a7f3fe562f88",
            "cad1ac4b3a6843e2b9f8365918c2a67e",
            "ccfc3ac25cf14f3d9bb992d94fe5e0e8",
            "c2d53704642248aa8d92e42dcffb3aa7"
          ]
        }
      },
      "source": [
        "demo.bagging() #Random Forest"
      ],
      "execution_count": 12,
      "outputs": [
        {
          "output_type": "display_data",
          "data": {
            "application/vnd.jupyter.widget-view+json": {
              "model_id": "aaa208df337f40c1b27d24af1100ff26",
              "version_minor": 0,
              "version_major": 2
            },
            "text/plain": [
              "interactive(children=(IntSlider(value=1, description='n_tree', max=6, min=1), IntSlider(value=1, description='…"
            ]
          },
          "metadata": {
            "tags": []
          }
        }
      ]
    },
    {
      "cell_type": "markdown",
      "metadata": {
        "id": "SqnaMxmj44gX",
        "colab_type": "text"
      },
      "source": [
        "## Gradient Boosting"
      ]
    },
    {
      "cell_type": "code",
      "metadata": {
        "id": "WyMP-Pbfbclv",
        "colab_type": "code",
        "outputId": "f8986269-bb8b-41e0-f297-4718dd1c26bd",
        "colab": {
          "base_uri": "https://localhost:8080/",
          "height": 382,
          "referenced_widgets": [
            "e552a8e58d0b497490e458cdc4ff8351",
            "60847c9161e04d36ba9f2a87b199a981",
            "9c24b8e6b67c46e196ee34ca4e651c2c",
            "a52d539a51e84dba9c32e169e9a2ecbb",
            "403c3c58898847b0840b3bc83423b070",
            "a2a066074bdc4ceaad19b467a6e0e870"
          ]
        }
      },
      "source": [
        "demo.gradient_boosting() # Not Extreem"
      ],
      "execution_count": 11,
      "outputs": [
        {
          "output_type": "display_data",
          "data": {
            "application/vnd.jupyter.widget-view+json": {
              "model_id": "e552a8e58d0b497490e458cdc4ff8351",
              "version_minor": 0,
              "version_major": 2
            },
            "text/plain": [
              "interactive(children=(IntSlider(value=0, description='iterasi', max=30), Output()), _dom_classes=('widget-inte…"
            ]
          },
          "metadata": {
            "tags": []
          }
        }
      ]
    }
  ]
}
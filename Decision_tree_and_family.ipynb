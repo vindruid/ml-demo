{
  "nbformat": 4,
  "nbformat_minor": 0,
  "metadata": {
    "colab": {
      "name": "Decision tree and family.ipynb",
      "provenance": [],
      "collapsed_sections": [],
      "authorship_tag": "ABX9TyOL4d+1AbWxVtQSRSPxeMXz",
      "include_colab_link": true
    },
    "kernelspec": {
      "name": "python3",
      "display_name": "Python 3"
    }
  },
  "cells": [
    {
      "cell_type": "markdown",
      "metadata": {
        "id": "view-in-github",
        "colab_type": "text"
      },
      "source": [
        "<a href=\"https://colab.research.google.com/github/vindruid/ml-demo/blob/master/Decision_tree_and_family.ipynb\" target=\"_parent\"><img src=\"https://colab.research.google.com/assets/colab-badge.svg\" alt=\"Open In Colab\"/></a>"
      ]
    },
    {
      "cell_type": "markdown",
      "metadata": {
        "id": "09q2Unank1nJ",
        "colab_type": "text"
      },
      "source": [
        "# Viz codes"
      ]
    },
    {
      "cell_type": "code",
      "metadata": {
        "id": "2wXM5lTRIBJT",
        "colab_type": "code",
        "colab": {}
      },
      "source": [
        "import os\n",
        "import numpy as np\n",
        "import pandas as pd\n",
        "import matplotlib.pyplot as plt\n",
        "from ipywidgets import interact, ToggleButton, ToggleButtons\n",
        "from ipywidgets.widgets import SelectionSlider\n",
        "from IPython.display import Image, display\n",
        "\n",
        "from sklearn.tree import DecisionTreeRegressor\n",
        "from sklearn.ensemble import RandomForestRegressor, GradientBoostingRegressor\n",
        "\n",
        "\n",
        "class DemoDecisionTreeAndFriends:\n",
        "    def __init__(self):\n",
        "        np.random.seed(42)\n",
        "        self._X = [0.0, 0.2, 0.4, 0.6, 0.8, 1.0, 1.2, 1.4, 1.6, 1.7, 2.0, 2.2, 2.4, 2.6, 2.8, 3.0, 3.2, 3.4, 3.6, 3.8, 4.0, 4.4, 4.9, 5.3, 6.0, 6.5, 7.3, 8.1, 8.4, 8.9, 10.2, 10.5]\n",
        "        self._y = [5.8, 5.8, 5.6, 6.0, 5.9, 6.5, 6.3, 6.8, 7.2, 6.8, 7.0, 8.5, 8.9, 8.2, 8.7, 7.3, 8.7, 8.9, 10.1, 10.5, 13.0, 13.6, 17.0, 25.0, 35.0, 24.0, 28.0, 39.0, 42.0, 29.0, 61.0, 49.0]\n",
        "        self._X = np.array(self._X).reshape(-1, 1)\n",
        "        self._y = np.array(self._y)\n",
        "        self._space = np.linspace(min(self._X), max(self._X), 250).reshape(-1, 1)\n",
        "        \n",
        "        self._state = 0\n",
        "\n",
        "    def data(self):\n",
        "        plt.figure(figsize=(6, 6))\n",
        "        plt.scatter(self._X.ravel(), self._y, s=10, c='k')\n",
        "        plt.xlabel('Pengalaman Kerja (Tahun)')\n",
        "        plt.ylabel('Gaji (Juta)')\n",
        "\n",
        "    def decision_tree(self):\n",
        "        def _calc_rmse(x):\n",
        "            mask = X <= x\n",
        "            x1, y1 = X[mask], y[mask]\n",
        "\n",
        "            mask = X > x\n",
        "            x2, y2 = X[mask], y[mask]\n",
        "\n",
        "            mean1, mean2 = y1.mean(), y2.mean()\n",
        "            rmse1 = np.sqrt(np.mean((y1 - mean1) ** 2))\n",
        "            rmse2 = np.sqrt(np.mean((y2 - mean2) ** 2))\n",
        "            w1 = len(y1) / len(y)\n",
        "            w2 = len(y2) / len(y)\n",
        "            rmse = w1 * rmse1 + w2 * rmse2\n",
        "            return x1, y1, x2, y2, mean1, mean2, rmse\n",
        "\n",
        "        def _simul(x, show_error=False):\n",
        "            x1, y1, x2, y2, mean1, mean2, rmse = _calc_rmse(x)\n",
        "\n",
        "            plt.figure(figsize=(15, 6))\n",
        "\n",
        "            plt.subplot(121)\n",
        "            plt.scatter(x1, y1, c='b', s=50)\n",
        "            plt.scatter(x2, y2, c='g', s=50)\n",
        "            plt.plot([minX, x, x, maxX], [mean1, mean1, mean2, mean2], 'r-')\n",
        "            plt.title(f\"Decision: X<={x:.2f} | error: {rmse:.2f}\", fontsize=14)\n",
        "            plt.xlabel('Pengalaman Kerja (Tahun)')\n",
        "            plt.ylabel('Gaji (Juta)')\n",
        "\n",
        "            if show_error:\n",
        "                plt.subplot(122)\n",
        "                plt.scatter(decisions, error, c='k', s=30)\n",
        "                plt.axvline(x, color='r')\n",
        "                plt.ylabel(\"Weighted RMSE\")\n",
        "\n",
        "        X, y = self._X.ravel(), self._y\n",
        "        minX, maxX = X.min(), X.max()\n",
        "        decisions = [(x1 + x2) / 2 for x1, x2 in zip(X[:-1], X[1:])]\n",
        "        error = [_calc_rmse(x)[-1] for x in decisions]\n",
        "        interact(_simul,\n",
        "                 x=SelectionSlider(options=decisions, value=decisions[10], description='decision', readout=False))\n",
        "\n",
        "    def max_depth(self):\n",
        "        def _simul(depth=1,):\n",
        "            dt = DecisionTreeRegressor(max_depth=depth)\n",
        "            dt.fit(X, y)\n",
        "\n",
        "            plt.figure(figsize=(6, 6))\n",
        "            plt.scatter(X, y, s=10, c='k')\n",
        "            plt.xlabel('Pengalaman Kerja (Tahun)')\n",
        "            plt.ylabel('Gaji (Juta)')\n",
        "            plt.plot(space, dt.predict(space), 'r-')\n",
        "\n",
        "        # here = os.path.dirname(__file__)\n",
        "        X, y = self._X, self._y\n",
        "        space = self._space\n",
        "        interact(_simul, depth=(1, 7, 1))\n",
        "\n",
        "    def min_samples_leaf(self):\n",
        "        def _simul(depth=1, min_samples_leaf=1):\n",
        "            dt = DecisionTreeRegressor(max_depth=depth, min_samples_leaf=min_samples_leaf)\n",
        "            dt.fit(X, y)\n",
        "\n",
        "            plt.figure(figsize=(6, 6))\n",
        "            plt.scatter(X, y, s=10, c='k')\n",
        "            plt.xlabel('Pengalaman Kerja (Tahun)')\n",
        "            plt.ylabel('Gaji (Juta)')\n",
        "            plt.plot(space, dt.predict(space), 'r-')\n",
        "\n",
        "        X, y = self._X, self._y\n",
        "        space = self._space\n",
        "        interact(_simul, depth=(1, 7, 1), min_samples_leaf=(1, 10, 1))\n",
        "\n",
        "    def bootstrap(self):\n",
        "        def _simul(bootstrap, fit):\n",
        "            st = np.random.RandomState(self._state)\n",
        "\n",
        "            plt.figure(figsize=(6, 6))\n",
        "            plt.scatter(X, y, s=10, c='b')\n",
        "            X_mask, y_mask = X, y\n",
        "\n",
        "            if bootstrap:\n",
        "                mask = st.choice(len(X), size=len(X), replace=True)\n",
        "                mask = list(set(mask))\n",
        "                X_mask, y_mask = X[mask], y[mask]\n",
        "                plt.xlabel('Pengalaman Kerja (Tahun)')\n",
        "                plt.ylabel('Gaji (Juta)')\n",
        "                plt.scatter(X_mask, y_mask, s=100, facecolors='none', edgecolors='r')\n",
        "            else:\n",
        "                self._state += 1\n",
        "\n",
        "            if fit:\n",
        "                dt = DecisionTreeRegressor(max_depth=7)\n",
        "                dt.fit(X_mask, y_mask)\n",
        "                plt.xlabel('Pengalaman Kerja (Tahun)')\n",
        "                plt.ylabel('Gaji (Juta)')\n",
        "                plt.plot(space, dt.predict(space), 'r-')\n",
        "\n",
        "        X, y = self._X, self._y\n",
        "        space = self._space\n",
        "        interact(_simul, bootstrap=ToggleButton(value=False, description='bootstrap'),\n",
        "                 fit=ToggleButton(value=False, description='fit'))\n",
        "\n",
        "    def bagging(self):\n",
        "        def _simul(n_tree=1, depth=1, phase='bootstrap'):\n",
        "            rf = RandomForestRegressor(n_estimators=n_tree, max_depth=depth, random_state=42)\n",
        "            rf.fit(X, y)\n",
        "\n",
        "            if phase == \"bootstrap\":\n",
        "                plt.figure(figsize=(13, 9))\n",
        "                for idx, dt in enumerate(rf.estimators_, 1):\n",
        "                    plt.subplot(2, 3, idx)\n",
        "                    plt.xlabel('Pengalaman Kerja (Tahun)')\n",
        "                    plt.ylabel('Gaji (Juta)')\n",
        "                    plt.scatter(X, y, s=10, c='k')\n",
        "                    plt.plot(space, dt.predict(space), 'r-')\n",
        "            elif phase == \"aggregate\":\n",
        "                plt.figure(figsize=(13, 6))\n",
        "\n",
        "                plt.subplot(121)\n",
        "                plt.xlabel('Pengalaman Kerja (Tahun)')\n",
        "                plt.ylabel('Gaji (Juta)')\n",
        "                plt.scatter(X, y, s=10, c='k')\n",
        "                for idx, dt in enumerate(rf.estimators_, 1):\n",
        "                    plt.plot(space, dt.predict(space), 'r-')\n",
        "\n",
        "                plt.subplot(122)\n",
        "                plt.xlabel('Pengalaman Kerja (Tahun)')\n",
        "                plt.ylabel('Gaji (Juta)')\n",
        "                plt.scatter(X, y, s=10, c='k')\n",
        "                plt.plot(space, rf.predict(space), 'r-')\n",
        "\n",
        "        X, y = self._X, self._y\n",
        "        space = self._space\n",
        "        interact(_simul, depth=(1, 7, 1), n_tree=(1, 6, 1),\n",
        "                 phase=ToggleButtons(options=['bootstrap', 'aggregate'], description='phase'))\n",
        "        \n",
        "    def gradient_boosting(self):\n",
        "        def _simul(iterasi=0):\n",
        "            prediction_space = predict_per_iteration(self._space, iterasi)\n",
        "            prediction_at_iteration = model.estimators_[iterasi][0].predict(self._space)\n",
        "            prediction = predict_per_iteration(self._X, iterasi)\n",
        "            residual = self._y - prediction\n",
        "\n",
        "            plt.figure(figsize=(16, 5))\n",
        "\n",
        "            plt.subplot(131)\n",
        "            plt.xlabel('Pengalaman Kerja (Tahun)')\n",
        "            plt.ylabel('Gaji (Juta)')\n",
        "            plt.scatter(self._X.ravel(), self._y, s=10, c='b')\n",
        "            plt.plot(self._space, prediction_space, 'r-') \n",
        "            plt.ylim(0, int(self._y.max() + 5))\n",
        "            plt.title(\"Ensemble Prediction\")\n",
        "\n",
        "            plt.subplot(132)\n",
        "            plt.xlabel('Pengalaman Kerja (Tahun)')\n",
        "            plt.ylabel('Gaji (Juta)')\n",
        "            plt.scatter(self._X.ravel(), residual, s=10, c='k')\n",
        "            plt.axhline(color='k', linewidth=1)\n",
        "            plt.ylim(0 - self._y.mean(), int(self._y.max() + 5) - self._y.mean())\n",
        "            plt.title(f\"Residual (R{iterasi+1})\")\n",
        "\n",
        "            plt.subplot(133)\n",
        "            plt.xlabel('Pengalaman Kerja (Tahun)')\n",
        "            plt.ylabel('Gaji (Juta)')\n",
        "            plt.scatter(self._X.ravel(), residual, s=10, c='k')\n",
        "            plt.plot(self._space, prediction_at_iteration, 'r-')\n",
        "            plt.axhline(color='k', linewidth=1)\n",
        "            plt.ylim(0 - self._y.mean(), int(self._y.max() + 5) - self._y.mean())\n",
        "            plt.title(f\"Fitted Residual (P{iterasi+1})\")\n",
        "\n",
        "        def predict_per_iteration(X, iteration=1):\n",
        "            result = self._y.mean() * np.ones_like(X.ravel())\n",
        "\n",
        "            if iteration > model.n_estimators:\n",
        "                raise Exception(f\"Input iterasi melebihi n_iter={self.n_estimator}\")\n",
        "            for tree in model.estimators_[:iteration]:\n",
        "                result += model.learning_rate * tree[0].predict(X)\n",
        "            return result\n",
        "\n",
        "        model = GradientBoostingRegressor(n_estimators=30, max_depth=1, random_state=42, learning_rate=1)\n",
        "        model.fit(self._X, self._y)\n",
        "        interact(_simul, iterasi=(0, model.n_estimators, 1))\n",
        "\n",
        "demo = DemoDecisionTreeAndFriends()\n"
      ],
      "execution_count": 0,
      "outputs": []
    },
    {
      "cell_type": "markdown",
      "metadata": {
        "id": "jh28GoAEU5Ep",
        "colab_type": "text"
      },
      "source": [
        "# Demo"
      ]
    },
    {
      "cell_type": "markdown",
      "metadata": {
        "id": "EBM25D1nkx8_",
        "colab_type": "text"
      },
      "source": [
        "## Data"
      ]
    },
    {
      "cell_type": "code",
      "metadata": {
        "id": "sYBzTsvqIWgH",
        "colab_type": "code",
        "outputId": "22a250e0-e9e9-408f-ca0b-d78256fb8bf3",
        "colab": {
          "base_uri": "https://localhost:8080/",
          "height": 387
        }
      },
      "source": [
        "demo.data()"
      ],
      "execution_count": 2,
      "outputs": [
        {
          "output_type": "display_data",
          "data": {
            "image/png": "[encoded data removed]",
            "text/plain": [
              "<Figure size 432x432 with 1 Axes>"
            ]
          },
          "metadata": {
            "tags": []
          }
        }
      ]
    },
    {
      "cell_type": "markdown",
      "metadata": {
        "id": "RGMUAO7UkzqF",
        "colab_type": "text"
      },
      "source": [
        "## Decision Tree"
      ]
    },
    {
      "cell_type": "code",
      "metadata": {
        "id": "7Z6E852WIyJn",
        "colab_type": "code",
        "colab": {}
      },
      "source": [
        "demo.decision_tree()"
      ],
      "execution_count": 0,
      "outputs": []
    },
    {
      "cell_type": "code",
      "metadata": {
        "id": "8P454ZBpI3B9",
        "colab_type": "code",
        "colab": {}
      },
      "source": [
        "demo.max_depth()"
      ],
      "execution_count": 0,
      "outputs": []
    },
    {
      "cell_type": "code",
      "metadata": {
        "id": "vdd0OuSKK9Ce",
        "colab_type": "code",
        "colab": {}
      },
      "source": [
        "demo.min_samples_leaf()"
      ],
      "execution_count": 0,
      "outputs": []
    },
    {
      "cell_type": "code",
      "metadata": {
        "id": "yxEIUP1PNChz",
        "colab_type": "code",
        "colab": {}
      },
      "source": [
        "demo.bootstrap()"
      ],
      "execution_count": 0,
      "outputs": []
    },
    {
      "cell_type": "markdown",
      "metadata": {
        "id": "JjeXXHzD5dnA",
        "colab_type": "text"
      },
      "source": [
        "## Bagging"
      ]
    },
    {
      "cell_type": "code",
      "metadata": {
        "id": "WhydjKxxaNyJ",
        "colab_type": "code",
        "colab": {}
      },
      "source": [
        "demo.bagging() #Random Forest"
      ],
      "execution_count": 0,
      "outputs": []
    },
    {
      "cell_type": "markdown",
      "metadata": {
        "id": "SqnaMxmj44gX",
        "colab_type": "text"
      },
      "source": [
        "## Gradient Boosting"
      ]
    },
    {
      "cell_type": "code",
      "metadata": {
        "id": "WyMP-Pbfbclv",
        "colab_type": "code",
        "colab": {}
      },
      "source": [
        "demo.gradient_boosting() # Not Extreem"
      ],
      "execution_count": 0,
      "outputs": []
    }
  ]
}